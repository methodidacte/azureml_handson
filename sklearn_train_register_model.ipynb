{
 "cells": [
  {
   "cell_type": "code",
   "execution_count": null,
   "id": "d02b86bc",
   "metadata": {},
   "outputs": [],
   "source": [
    "!pip install --upgrade scikit-learn==0.24.2"
   ]
  },
  {
   "cell_type": "code",
   "execution_count": 1,
   "id": "d125351f",
   "metadata": {},
   "outputs": [
    {
     "name": "stdout",
     "output_type": "stream",
     "text": [
      "Scikit Learn Version: 0.24.2\n"
     ]
    }
   ],
   "source": [
    "import sklearn\n",
    "\n",
    "print(f\"Scikit Learn Version: {sklearn.__version__}\")"
   ]
  },
  {
   "cell_type": "code",
   "execution_count": 2,
   "id": "b0f7aa87",
   "metadata": {},
   "outputs": [],
   "source": [
    "import pandas as pd"
   ]
  },
  {
   "cell_type": "markdown",
   "id": "4da13bef",
   "metadata": {},
   "source": [
    "#### Toy datasets\n",
    "\n",
    "Choisir un autre toy dataset parmi ceux présentés sur cette page et adapter le code\n",
    "\n",
    "https://scikit-learn.org/stable/datasets/toy_dataset.html"
   ]
  },
  {
   "cell_type": "code",
   "execution_count": 3,
   "id": "aca11b36",
   "metadata": {},
   "outputs": [],
   "source": [
    "from sklearn.datasets import load_wine\n",
    "\n",
    "dataset = sklearn.datasets.load_wine() #as_frame=True"
   ]
  },
  {
   "cell_type": "code",
   "execution_count": 4,
   "id": "46453253",
   "metadata": {},
   "outputs": [],
   "source": [
    "df = pd.DataFrame(dataset.data, columns=dataset.feature_names)"
   ]
  },
  {
   "cell_type": "code",
   "execution_count": 5,
   "id": "5b95e655",
   "metadata": {},
   "outputs": [
    {
     "data": {
      "text/html": [
       "<div>\n",
       "<style scoped>\n",
       "    .dataframe tbody tr th:only-of-type {\n",
       "        vertical-align: middle;\n",
       "    }\n",
       "\n",
       "    .dataframe tbody tr th {\n",
       "        vertical-align: top;\n",
       "    }\n",
       "\n",
       "    .dataframe thead th {\n",
       "        text-align: right;\n",
       "    }\n",
       "</style>\n",
       "<table border=\"1\" class=\"dataframe\">\n",
       "  <thead>\n",
       "    <tr style=\"text-align: right;\">\n",
       "      <th></th>\n",
       "      <th>alcohol</th>\n",
       "      <th>malic_acid</th>\n",
       "      <th>ash</th>\n",
       "      <th>alcalinity_of_ash</th>\n",
       "      <th>magnesium</th>\n",
       "      <th>total_phenols</th>\n",
       "      <th>flavanoids</th>\n",
       "      <th>nonflavanoid_phenols</th>\n",
       "      <th>proanthocyanins</th>\n",
       "      <th>color_intensity</th>\n",
       "      <th>hue</th>\n",
       "      <th>od280/od315_of_diluted_wines</th>\n",
       "      <th>proline</th>\n",
       "    </tr>\n",
       "  </thead>\n",
       "  <tbody>\n",
       "    <tr>\n",
       "      <th>0</th>\n",
       "      <td>14.23</td>\n",
       "      <td>1.71</td>\n",
       "      <td>2.43</td>\n",
       "      <td>15.6</td>\n",
       "      <td>127.0</td>\n",
       "      <td>2.80</td>\n",
       "      <td>3.06</td>\n",
       "      <td>0.28</td>\n",
       "      <td>2.29</td>\n",
       "      <td>5.64</td>\n",
       "      <td>1.04</td>\n",
       "      <td>3.92</td>\n",
       "      <td>1065.0</td>\n",
       "    </tr>\n",
       "    <tr>\n",
       "      <th>1</th>\n",
       "      <td>13.20</td>\n",
       "      <td>1.78</td>\n",
       "      <td>2.14</td>\n",
       "      <td>11.2</td>\n",
       "      <td>100.0</td>\n",
       "      <td>2.65</td>\n",
       "      <td>2.76</td>\n",
       "      <td>0.26</td>\n",
       "      <td>1.28</td>\n",
       "      <td>4.38</td>\n",
       "      <td>1.05</td>\n",
       "      <td>3.40</td>\n",
       "      <td>1050.0</td>\n",
       "    </tr>\n",
       "    <tr>\n",
       "      <th>2</th>\n",
       "      <td>13.16</td>\n",
       "      <td>2.36</td>\n",
       "      <td>2.67</td>\n",
       "      <td>18.6</td>\n",
       "      <td>101.0</td>\n",
       "      <td>2.80</td>\n",
       "      <td>3.24</td>\n",
       "      <td>0.30</td>\n",
       "      <td>2.81</td>\n",
       "      <td>5.68</td>\n",
       "      <td>1.03</td>\n",
       "      <td>3.17</td>\n",
       "      <td>1185.0</td>\n",
       "    </tr>\n",
       "    <tr>\n",
       "      <th>3</th>\n",
       "      <td>14.37</td>\n",
       "      <td>1.95</td>\n",
       "      <td>2.50</td>\n",
       "      <td>16.8</td>\n",
       "      <td>113.0</td>\n",
       "      <td>3.85</td>\n",
       "      <td>3.49</td>\n",
       "      <td>0.24</td>\n",
       "      <td>2.18</td>\n",
       "      <td>7.80</td>\n",
       "      <td>0.86</td>\n",
       "      <td>3.45</td>\n",
       "      <td>1480.0</td>\n",
       "    </tr>\n",
       "    <tr>\n",
       "      <th>4</th>\n",
       "      <td>13.24</td>\n",
       "      <td>2.59</td>\n",
       "      <td>2.87</td>\n",
       "      <td>21.0</td>\n",
       "      <td>118.0</td>\n",
       "      <td>2.80</td>\n",
       "      <td>2.69</td>\n",
       "      <td>0.39</td>\n",
       "      <td>1.82</td>\n",
       "      <td>4.32</td>\n",
       "      <td>1.04</td>\n",
       "      <td>2.93</td>\n",
       "      <td>735.0</td>\n",
       "    </tr>\n",
       "  </tbody>\n",
       "</table>\n",
       "</div>"
      ],
      "text/plain": [
       "   alcohol  malic_acid   ash  alcalinity_of_ash  magnesium  total_phenols  \\\n",
       "0    14.23        1.71  2.43               15.6      127.0           2.80   \n",
       "1    13.20        1.78  2.14               11.2      100.0           2.65   \n",
       "2    13.16        2.36  2.67               18.6      101.0           2.80   \n",
       "3    14.37        1.95  2.50               16.8      113.0           3.85   \n",
       "4    13.24        2.59  2.87               21.0      118.0           2.80   \n",
       "\n",
       "   flavanoids  nonflavanoid_phenols  proanthocyanins  color_intensity   hue  \\\n",
       "0        3.06                  0.28             2.29             5.64  1.04   \n",
       "1        2.76                  0.26             1.28             4.38  1.05   \n",
       "2        3.24                  0.30             2.81             5.68  1.03   \n",
       "3        3.49                  0.24             2.18             7.80  0.86   \n",
       "4        2.69                  0.39             1.82             4.32  1.04   \n",
       "\n",
       "   od280/od315_of_diluted_wines  proline  \n",
       "0                          3.92   1065.0  \n",
       "1                          3.40   1050.0  \n",
       "2                          3.17   1185.0  \n",
       "3                          3.45   1480.0  \n",
       "4                          2.93    735.0  "
      ]
     },
     "execution_count": 5,
     "metadata": {},
     "output_type": "execute_result"
    }
   ],
   "source": [
    "df.head()"
   ]
  },
  {
   "cell_type": "code",
   "execution_count": 6,
   "id": "fc09addb",
   "metadata": {},
   "outputs": [
    {
     "data": {
      "text/plain": [
       "0      1.71\n",
       "1      1.78\n",
       "2      2.36\n",
       "3      1.95\n",
       "4      2.59\n",
       "       ... \n",
       "173    5.65\n",
       "174    3.91\n",
       "175    4.28\n",
       "176    2.59\n",
       "177    4.10\n",
       "Name: malic_acid, Length: 178, dtype: float64"
      ]
     },
     "execution_count": 6,
     "metadata": {},
     "output_type": "execute_result"
    }
   ],
   "source": [
    "df.iloc[:,1]"
   ]
  },
  {
   "cell_type": "markdown",
   "id": "9e4d0ac8",
   "metadata": {},
   "source": [
    "#### Train test split"
   ]
  },
  {
   "cell_type": "code",
   "execution_count": 8,
   "id": "62195084",
   "metadata": {},
   "outputs": [],
   "source": [
    "# Les objets ci-dessous sont des numpy.ndarray\n",
    "X = dataset.data\n",
    "y = dataset.target"
   ]
  },
  {
   "cell_type": "code",
   "execution_count": 9,
   "id": "727d9549",
   "metadata": {},
   "outputs": [],
   "source": [
    "from sklearn.model_selection import train_test_split\n",
    "\n",
    "X_train, X_test, y_train, y_test = train_test_split(X, y, test_size=0.2)"
   ]
  },
  {
   "cell_type": "markdown",
   "id": "8e28678e",
   "metadata": {},
   "source": [
    "#### Training\n",
    "\n",
    "Choisir un autre algorithme du framework Scikit Learn et adapter le code\n",
    "\n",
    "https://scikit-learn.org/stable/"
   ]
  },
  {
   "cell_type": "code",
   "execution_count": 10,
   "id": "4021bfb7",
   "metadata": {},
   "outputs": [
    {
     "data": {
      "text/plain": [
       "KNeighborsClassifier()"
      ]
     },
     "execution_count": 10,
     "metadata": {},
     "output_type": "execute_result"
    }
   ],
   "source": [
    "from sklearn.neighbors import KNeighborsClassifier\n",
    "\n",
    "model = KNeighborsClassifier(n_neighbors = 5)\n",
    "model.fit(X_train, y_train)   "
   ]
  },
  {
   "cell_type": "code",
   "execution_count": 11,
   "id": "fce05306",
   "metadata": {},
   "outputs": [],
   "source": [
    "y_pred = model.predict(X_test)"
   ]
  },
  {
   "cell_type": "markdown",
   "id": "9266cb99",
   "metadata": {},
   "source": [
    "#### Hyperparameter tuning\n",
    "\n",
    "Adapter les hyperparamètres en fonction de l'algorithme choisi"
   ]
  },
  {
   "cell_type": "code",
   "execution_count": 12,
   "id": "b349e821",
   "metadata": {},
   "outputs": [
    {
     "data": {
      "text/plain": [
       "GridSearchCV(estimator=KNeighborsClassifier(),\n",
       "             param_grid={'n_neighbors': [2, 3, 4, 5]})"
      ]
     },
     "execution_count": 12,
     "metadata": {},
     "output_type": "execute_result"
    }
   ],
   "source": [
    "from sklearn.model_selection import GridSearchCV\n",
    "\n",
    "parameters = {\"n_neighbors\": [2,3,4,5]}\n",
    "gs_model = GridSearchCV(KNeighborsClassifier(), parameters)\n",
    "gs_model.fit(X_train, y_train) "
   ]
  },
  {
   "cell_type": "code",
   "execution_count": 13,
   "id": "abcae829",
   "metadata": {},
   "outputs": [
    {
     "name": "stdout",
     "output_type": "stream",
     "text": [
      "{'n_neighbors': 5}\n"
     ]
    }
   ],
   "source": [
    "print(gs_model.best_params_)"
   ]
  },
  {
   "cell_type": "code",
   "execution_count": 14,
   "id": "fdcb30da",
   "metadata": {},
   "outputs": [],
   "source": [
    "y_pred = gs_model.predict(X_test)"
   ]
  },
  {
   "cell_type": "markdown",
   "id": "70f396cc",
   "metadata": {},
   "source": [
    "#### Evaluation"
   ]
  },
  {
   "cell_type": "code",
   "execution_count": 15,
   "id": "6bd456dc",
   "metadata": {},
   "outputs": [
    {
     "name": "stdout",
     "output_type": "stream",
     "text": [
      "Train accuracy : 0.7887323943661971\n",
      "Test accuracy : 1.0\n"
     ]
    }
   ],
   "source": [
    "print(\"Train accuracy : {}\".format(model.score(X_train, y_train)))\n",
    "print(\"Test accuracy : {}\".format(model.score(X_test, y_pred)))"
   ]
  },
  {
   "cell_type": "markdown",
   "id": "b9324c8b",
   "metadata": {},
   "source": [
    "#### Artefact"
   ]
  },
  {
   "cell_type": "code",
   "execution_count": 16,
   "id": "6ee83e2b",
   "metadata": {},
   "outputs": [],
   "source": [
    "import os\n",
    "\n",
    "os.makedirs('models', exist_ok=True)"
   ]
  },
  {
   "cell_type": "code",
   "execution_count": 25,
   "id": "48513c46",
   "metadata": {},
   "outputs": [],
   "source": [
    "model_name = 'wine_knn_model'\n",
    "model_path = 'models/' + model_name + '.pkl'"
   ]
  },
  {
   "cell_type": "code",
   "execution_count": 26,
   "id": "78acd4b9",
   "metadata": {},
   "outputs": [
    {
     "data": {
      "text/plain": [
       "['models/wine_knn_model.pkl']"
      ]
     },
     "execution_count": 26,
     "metadata": {},
     "output_type": "execute_result"
    }
   ],
   "source": [
    "import joblib\n",
    "\n",
    "joblib.dump(model, model_path)"
   ]
  },
  {
   "cell_type": "code",
   "execution_count": 27,
   "id": "e8b3f222",
   "metadata": {},
   "outputs": [],
   "source": [
    "unpkl_model = joblib.load(model_path)"
   ]
  },
  {
   "cell_type": "code",
   "execution_count": 28,
   "id": "76b84f6b",
   "metadata": {},
   "outputs": [
    {
     "data": {
      "text/plain": [
       "array([1, 1, 0, 2, 1, 0, 2, 1, 1, 1, 0, 0, 1, 0, 0, 1, 0, 1, 2, 1, 0, 2,\n",
       "       0, 1, 2, 1, 2, 0, 1, 1, 2, 2, 1, 0, 0, 0])"
      ]
     },
     "execution_count": 28,
     "metadata": {},
     "output_type": "execute_result"
    }
   ],
   "source": [
    "y_pred = unpkl_model.predict(X_test)\n",
    "y_pred"
   ]
  },
  {
   "cell_type": "code",
   "execution_count": 29,
   "id": "a512ed48",
   "metadata": {},
   "outputs": [],
   "source": [
    "gs_model_name = 'wine_knn_gs_model'\n",
    "gs_model_path = 'models/' + gs_model_name + '.pkl'"
   ]
  },
  {
   "cell_type": "code",
   "execution_count": 30,
   "id": "de98626f",
   "metadata": {},
   "outputs": [
    {
     "data": {
      "text/plain": [
       "['models/wine_knn_gs_model.pkl']"
      ]
     },
     "execution_count": 30,
     "metadata": {},
     "output_type": "execute_result"
    }
   ],
   "source": [
    "import joblib\n",
    "\n",
    "joblib.dump(gs_model, gs_model_path)"
   ]
  },
  {
   "cell_type": "markdown",
   "id": "77c339a6",
   "metadata": {},
   "source": [
    "### Register model"
   ]
  },
  {
   "cell_type": "code",
   "execution_count": 31,
   "id": "a229c9c7",
   "metadata": {},
   "outputs": [
    {
     "data": {
      "text/plain": [
       "Workspace.create(name='wshandsonaml', subscription_id='23376daf-77f3-4195-9649-e223b8072ad9', resource_group='rg-handsonaml')"
      ]
     },
     "execution_count": 31,
     "metadata": {},
     "output_type": "execute_result"
    }
   ],
   "source": [
    "from azureml.core import Workspace\n",
    "\n",
    "\n",
    "ws = Workspace.from_config()\n",
    "ws"
   ]
  },
  {
   "cell_type": "code",
   "execution_count": 32,
   "id": "c3d9696a",
   "metadata": {},
   "outputs": [
    {
     "name": "stdout",
     "output_type": "stream",
     "text": [
      "Registering model wine_knn_model\n"
     ]
    }
   ],
   "source": [
    "from azureml.core.model import Model\n",
    "\n",
    "\n",
    "aml_model = Model.register(workspace=ws,\n",
    "                       model_name=model_name,\n",
    "                       model_path=model_path,\n",
    "                       model_framework=Model.Framework.SCIKITLEARN,  # Framework used to create the model.\n",
    "                       model_framework_version=sklearn.__version__,             # Version of scikit-learn used to create the model.\n",
    "                       tags={'dataset': \"wine (toy dataset)\", 'type': \"KNN classification\"},\n",
    "                       description=\"KNN classification for wine class\"\n",
    "                       )"
   ]
  },
  {
   "cell_type": "code",
   "execution_count": 33,
   "id": "a4c9980f",
   "metadata": {},
   "outputs": [
    {
     "data": {
      "text/plain": [
       "4"
      ]
     },
     "execution_count": 33,
     "metadata": {},
     "output_type": "execute_result"
    }
   ],
   "source": [
    "aml_model.version"
   ]
  },
  {
   "cell_type": "code",
   "execution_count": 34,
   "id": "5f92bae5",
   "metadata": {},
   "outputs": [
    {
     "name": "stdout",
     "output_type": "stream",
     "text": [
      "Registering model wine_knn_gs_model\n"
     ]
    }
   ],
   "source": [
    "aml_gs_model = Model.register(workspace=ws,\n",
    "                       model_name=gs_model_name,\n",
    "                       model_path=gs_model_path,\n",
    "                       model_framework=Model.Framework.SCIKITLEARN,  # Framework used to create the model.\n",
    "                       model_framework_version=sklearn.__version__,             # Version of scikit-learn used to create the model.\n",
    "                       tags={'dataset': \"wine (toy dataset)\", 'type': \"KNN classification\"},\n",
    "                       description=\"KNN classification with Grid Search for wine class\"\n",
    "                       )"
   ]
  },
  {
   "cell_type": "markdown",
   "id": "6264003f",
   "metadata": {},
   "source": [
    "Choisir dans la cellule ci-dessous le modèle qui sera déployé ainsi que sa version"
   ]
  },
  {
   "cell_type": "code",
   "execution_count": 36,
   "id": "187d056a",
   "metadata": {},
   "outputs": [],
   "source": [
    "from azureml.core.model import Model\n",
    "\n",
    "model = Model(ws, 'wine_knn_gs_model', version=1)"
   ]
  },
  {
   "cell_type": "markdown",
   "id": "34885864",
   "metadata": {},
   "source": [
    "### Deploy service"
   ]
  },
  {
   "cell_type": "code",
   "execution_count": 37,
   "id": "fd6ecbc3",
   "metadata": {},
   "outputs": [
    {
     "name": "stdout",
     "output_type": "stream",
     "text": [
      "Tips: You can try get_logs(): https://aka.ms/debugimage#dockerlog or local deployment: https://aka.ms/debugimage#debug-locally to debug if deployment takes longer than 10 minutes.\n",
      "Running\n",
      "2021-06-16 14:11:24+00:00 Creating Container Registry if not exists.\n",
      "2021-06-16 14:11:24+00:00 Registering the environment.\n",
      "2021-06-16 14:11:25+00:00 Uploading autogenerated assets for no-code-deployment.\n",
      "2021-06-16 14:11:25+00:00 Use the existing image.\n",
      "2021-06-16 14:11:26+00:00 Generating deployment configuration.\n",
      "2021-06-16 14:11:27+00:00 Submitting deployment to compute..\n",
      "2021-06-16 14:11:35+00:00 Checking the status of deployment wine-default-service..\n",
      "2021-06-16 14:13:08+00:00 Checking the status of inference endpoint wine-default-service.\n",
      "Succeeded\n",
      "ACI service creation operation finished, operation \"Succeeded\"\n"
     ]
    }
   ],
   "source": [
    "# Use a default environment\n",
    "# nécessite d'avoir précisé le framework lors de l'enregistrement du modèle\n",
    "# Default environments are only provided for these frameworks: ['Onnx', 'ScikitLearn', 'TensorFlow'].\"\n",
    "\n",
    "from azureml.core import Webservice\n",
    "from azureml.exceptions import WebserviceException\n",
    "\n",
    "service_name = 'wine-default-service'\n",
    "\n",
    "# Remove any existing service under the same name.\n",
    "try:\n",
    "    Webservice(ws, service_name).delete()\n",
    "except WebserviceException:\n",
    "    pass\n",
    "\n",
    "service = Model.deploy(ws, service_name, [model])\n",
    "service.wait_for_deployment(show_output=True)"
   ]
  },
  {
   "cell_type": "code",
   "execution_count": 38,
   "id": "eaa13814",
   "metadata": {},
   "outputs": [
    {
     "name": "stdout",
     "output_type": "stream",
     "text": [
      "{'predict': [0]}\n"
     ]
    }
   ],
   "source": [
    "import json\n",
    "\n",
    "input_payload = json.dumps({ \n",
    "    \"data\": [\n",
    "        [14.23,1.71,2.43,15.6,127,2.8,3.06,.28,2.29,5.64,1.04,3.92,1065]\n",
    "    ],\n",
    "    \"method\": \"predict\"  # For classification model, get probabilities with 'predict_proba'.\n",
    "})\n",
    "\n",
    "output = service.run(input_payload)\n",
    "\n",
    "print(output)"
   ]
  },
  {
   "cell_type": "code",
   "execution_count": 39,
   "id": "701cde9a",
   "metadata": {},
   "outputs": [
    {
     "name": "stdout",
     "output_type": "stream",
     "text": [
      "{'predict_proba': [[1.0, 0.0, 0.0]]}\n"
     ]
    }
   ],
   "source": [
    "import json\n",
    "\n",
    "input_payload = json.dumps({ \n",
    "    \"data\": [\n",
    "        [14.23,1.71,2.43,15.6,127,2.8,3.06,.28,2.29,5.64,1.04,3.92,1065]\n",
    "    ],\n",
    "    \"method\": \"predict_proba\"  # For classification model, get probabilities with 'predict_proba'.\n",
    "})\n",
    "\n",
    "output = service.run(input_payload)\n",
    "\n",
    "print(output)"
   ]
  }
 ],
 "metadata": {
  "kernelspec": {
   "display_name": "Python 3",
   "language": "python",
   "name": "python3"
  },
  "language_info": {
   "codemirror_mode": {
    "name": "ipython",
    "version": 3
   },
   "file_extension": ".py",
   "mimetype": "text/x-python",
   "name": "python",
   "nbconvert_exporter": "python",
   "pygments_lexer": "ipython3",
   "version": "3.6.9"
  }
 },
 "nbformat": 4,
 "nbformat_minor": 5
}
